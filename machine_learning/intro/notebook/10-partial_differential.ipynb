{
 "cells": [
  {
   "cell_type": "markdown",
   "metadata": {},
   "source": [
    "# 偏微分\n",
    "\n",
    "偏微分とは多変数の微分のこと。つまりxの数が増えていく。  \n",
    "例： $y$   が家賃、$x_1$ が広さ、$x_2$が駅からの距離、$x_3$が治安等々\n",
    "<br />\n",
    "<br />\n",
    "\n",
    "$\\frac{\\partial }{\\partial a}()$  \n",
    "\n",
    "$\\partial$は（ラウンド）ディーと呼ぶ。\n",
    "\n",
    "\n",
    "```aで偏微分する = a以外を定数だと仮定して微分する```\n",
    "\n",
    "### 例題\n",
    "(1) $\\frac{\\partial }{\\partial a}(3a^2)$   \n",
    "<br />\n",
    "<br />\n",
    "    $=3*\\frac{\\partial }{\\partial a}(a^2)$ aをxと読み替える。aと関係ないところは外にだしてOK。3以外は微分の公式$(x^2) = 2x$と同じなので、  \n",
    "    $=3*\\frac{\\partial }{\\partial x}(x^2)$となる  \n",
    "    $=3*2a$  \n",
    "    $=6a$  \n",
    "    \n",
    "<br />\n",
    "<br />\n",
    "                                                                                                   \n",
    "(2) $\\frac{\\partial }{\\partial x^1}(4x_1+3x_2)$  \n",
    "足し算は分解しても良い  \n",
    "<br />\n",
    "<br />\n",
    " $=\\frac{\\partial }{\\partial a}(4x_1)+\\frac{\\partial }{\\partial a}(3x_2)$ $x_1$以外は外に出して良いので、  \n",
    " $=4*\\frac{\\partial }{\\partial a}(x_1)+3x_2*\\frac{\\partial }{\\partial x_2}(1)$    \n",
    " $=4*1+3x_2*0$  \n",
    " $=4$  \n",
    " \n",
    " ヒント：$x_1$と関係ないものは0になるので、最初から0としてしまっても良い\n",
    " \n",
    "<br />\n",
    "<br />\n",
    "\n",
    " (3) $\\frac{\\partial }{\\partial a}(C_o-2C_1a+C_2a^2)$   \n",
    "<br />\n",
    "<br />\n",
    "$=C_0*\\frac{\\partial }{\\partial a}(1)-2C_1*\\frac{\\partial }{\\partial a}(a)+C_2*\\frac{\\partial }{\\partial a}(a^2)$   \n",
    "$=C_0*0-2C_1*1+2C_2a$   \n",
    "$=-2C_1+2C_2a$  \n",
    " "
   ]
  },
  {
   "cell_type": "code",
   "execution_count": null,
   "metadata": {},
   "outputs": [],
   "source": []
  }
 ],
 "metadata": {
  "kernelspec": {
   "display_name": "Python 3",
   "language": "python",
   "name": "python3"
  },
  "language_info": {
   "codemirror_mode": {
    "name": "ipython",
    "version": 3
   },
   "file_extension": ".py",
   "mimetype": "text/x-python",
   "name": "python",
   "nbconvert_exporter": "python",
   "pygments_lexer": "ipython3",
   "version": "3.6.5"
  }
 },
 "nbformat": 4,
 "nbformat_minor": 2
}
