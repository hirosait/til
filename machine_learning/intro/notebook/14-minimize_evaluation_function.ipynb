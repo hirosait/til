{
 "cells": [
  {
   "cell_type": "markdown",
   "metadata": {},
   "source": [
    "## 評価関数を「最小化」する\n",
    "\n",
    "誤差が小さいのが一番良い予測である　\n",
    "\n",
    "### 微分する\n",
    "\n",
    "評価関数：L  \n",
    "$y=ax+b$  家賃を予測する式.\n",
    "\n",
    "\n",
    "横軸はなにか？  \n",
    "何かをうまく調整できないと、誤差が大きくなってしまう。何をうまく調整すると誤差が小さくなる。何かとはなにか？  \n",
    "家賃を求める予測値$\\widehat y=ax$  \n",
    "なにかとは、aかxのどちらか。  \n",
    "xは部屋の広さというデータなので、調整できない。調整できるものがパラメータなので、aをパラメータとして使う。  \n",
    "\n",
    "微分で、誤差が最小となる「傾向きが０」を求める  \n",
    "「傾き＝０」が求まるaを求める  \n",
    "\n",
    "微分すると、傾き＝０が求まる  \n",
    "傾きは微分すると出せる  \n",
    "$\\frac{\\partial }{\\partial []}[]$  []に何をいれるか？何を何で微分するのか？  \n",
    "右の[]には縦軸(評価関数)を入れる。分母の[]には横軸(a)を入れる。  \n",
    "つまりこの例だと$\\frac{\\partial }{\\partial a}(L)=0$  を求める。  \n",
    "\n",
    "$L=\\sum_{n=1}^{N}(y_n-\\widehat y_n)^2$　①これで解くがaがないので、式変形を行う  \n",
    "$\\widehat y_n=ax_n$  ②  \n",
    "\n",
    "①に②を代入  \n",
    "\n",
    "$L=\\sum_{n=1}^{N}(y_n-ax_n)^2$　  \n",
    "$=\\sum_{n=1}^{N}(y_n^2-2y_nax_n+a^2x_n^2)$　  \n",
    "$=\\sum_{n=1}^{N}(y_n^2-2(\\sum_{n=1}^{N}x_ny_n)a+\n",
    "(\\sum_{n=1}^{N}x_n^2)a^2)$　  \n",
    "\n",
    "aで微分したいが、aには関係ないところは別の記号にしてしまう. $C_o,C_1,C_2$と略す。  \n",
    "$=C_o-2C_1a+C_2a^2$　 これが最終的な評価関数  \n",
    "\n",
    "$=>\\frac{\\partial }{\\partial a}(L)=0$   \n",
    "$=>\\frac{\\partial }{\\partial a}(C_o-2C_1a+C_2a^2)=0$  足し算は分離してもOKなので  \n",
    "$=>\\frac{\\partial }{\\partial a}(C_o)-\\frac{\\partial }{\\partial a}(2C_1a)+\\frac{\\partial }{\\partial a}(C_2a^2)=0$     \n",
    "$=>-2C_1+2C_2a=0$  \n",
    "$=>C_2a=c_1$  \n",
    "$=>a=\\frac{c_2}{c_1}=\\frac{\\sum_{n=1}^{N}x_ny_n}{\\sum_{n=1}^{N}x_n^2}$  \n",
    "\n",
    "これで最低なパラメータaを求められる  \n",
    "xの値とyの値  \n",
    "\n",
    "| x  | y  |\n",
    "|----|----|\n",
    "|1   |2   |\n",
    "|2   |3.9 |\n",
    "|3   |6.1 |\n",
    "\n",
    "一旦、センタリングしてから、aを求める。  \n",
    "a = 1.325 ??"
   ]
  },
  {
   "cell_type": "code",
   "execution_count": null,
   "metadata": {},
   "outputs": [],
   "source": []
  }
 ],
 "metadata": {
  "kernelspec": {
   "display_name": "Python 3",
   "language": "python",
   "name": "python3"
  },
  "language_info": {
   "codemirror_mode": {
    "name": "ipython",
    "version": 3
   },
   "file_extension": ".py",
   "mimetype": "text/x-python",
   "name": "python",
   "nbconvert_exporter": "python",
   "pygments_lexer": "ipython3",
   "version": "3.6.5"
  }
 },
 "nbformat": 4,
 "nbformat_minor": 2
}
