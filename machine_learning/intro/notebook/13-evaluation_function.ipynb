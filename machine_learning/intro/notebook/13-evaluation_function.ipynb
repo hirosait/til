{
 "cells": [
  {
   "cell_type": "markdown",
   "metadata": {},
   "source": [
    "## 「適切」を決める\n",
    "\n",
    "「**評価関数**」を決める。評価関数は**損失関数**とも呼ばれる。  \n",
    "\n",
    "$y$ :実際の家賃  \n",
    "$\\widehat y$ :予測される家賃  \n",
    "\n",
    "$y$ と$\\widehat y$ の差が小さいほうが良い  \n",
    "\n",
    "差を求める:  \n",
    "$(y-\\widehat y)^2$  \n",
    "\n",
    "二乗することで、プラスマイナスを考慮しなくて良くなる  \n",
    "\n",
    "これを「**二乗誤差**」と呼ぶ  \n",
    "\n",
    "※絶対値ではなく２条にする理由は様々あるが、単回帰では絶対値だとグラフにするとグラフ線がVの字になり、底がなめらかにならず、微分で解を求める際に不都合なので、U字になるよう二乗するほうが都合が良い。  \n",
    "\n",
    "評価関数:   \n",
    "$L=(y_1-\\widehat y_1)^2+(y_2-\\widehat y_2)^2 ... (y_n-y_n^2)^2$    \n",
    "$=\\sum_{n=1}^{N}(y_n-\\widehat y_n)^2$\n",
    "\n",
    "\n",
    "n=サンプル数"
   ]
  },
  {
   "cell_type": "code",
   "execution_count": null,
   "metadata": {},
   "outputs": [],
   "source": []
  }
 ],
 "metadata": {
  "kernelspec": {
   "display_name": "Python 3",
   "language": "python",
   "name": "python3"
  },
  "language_info": {
   "codemirror_mode": {
    "name": "ipython",
    "version": 3
   },
   "file_extension": ".py",
   "mimetype": "text/x-python",
   "name": "python",
   "nbconvert_exporter": "python",
   "pygments_lexer": "ipython3",
   "version": "3.6.5"
  }
 },
 "nbformat": 4,
 "nbformat_minor": 2
}
