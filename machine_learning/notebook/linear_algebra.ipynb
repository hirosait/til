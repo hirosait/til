{
 "cells": [
  {
   "cell_type": "markdown",
   "metadata": {
    "collapsed": true
   },
   "source": [
    "## 線形代数\n",
    "\n",
    "### スカラ、ベクトル、行列おさらい\n",
    "\n",
    "#### スカラ\n",
    "細字の小文字を使う（変数）、細文字の大文字も使う（定数）\n",
    "\n",
    "$$\n",
    "\\begin{align}\n",
    "x, y, z, m, n\n",
    "\\end{align}\n",
    "$$\n",
    "\n",
    "\n",
    "#### ベクトル（スカラがいくつか集まったもの）\n",
    "太字の小文字を使う\n",
    "\\begin{equation*}\n",
    "\\mathbf{x} =  \\begin{bmatrix}x_1\n",
    "\\\\ x_2\n",
    "\\\\ x_3\n",
    "\\end{bmatrix}\n",
    "\\end{equation*}\n",
    "\n",
    "\\begin{equation*}\n",
    "\\mathbf{y} =  \\begin{bmatrix}x_1\n",
    "\\\\ x_2\n",
    "\\\\ x_3\n",
    "\\end{bmatrix}\n",
    "\\end{equation*}\n",
    "#### 行列（ベクトルがいくつか集まったもの）\n",
    "太字の大文字を使う\n",
    "\\begin{equation*}\n",
    "\\mathbf{X} =  \\begin{bmatrix}\n",
    "x_{11} & x_{12}\\\\\n",
    "x_{12} & x_{22}\\\\\n",
    "x_{13} & x_{32}\\\\\n",
    "\\end{bmatrix}\n",
    "\\end{equation*}\n",
    "\n",
    "行列のサイズは3行x2列なのがわかる。  \n",
    "その意味では、ベクトルは3行x1列で、スカラは1行x1列とも言える。  \n",
    "行列の一部として、ベクトル、ベクトルの一部としてスカラがある。 \n",
    "ちなみに行列が複数集まったものをテンソルと呼ぶ。  "
   ]
  },
  {
   "cell_type": "code",
   "execution_count": null,
   "metadata": {
    "collapsed": true
   },
   "outputs": [],
   "source": []
  },
  {
   "cell_type": "code",
   "execution_count": null,
   "metadata": {
    "collapsed": true
   },
   "outputs": [],
   "source": []
  }
 ],
 "metadata": {
  "kernelspec": {
   "display_name": "Python 3",
   "language": "python",
   "name": "python3"
  },
  "language_info": {
   "codemirror_mode": {
    "name": "ipython",
    "version": 3
   },
   "file_extension": ".py",
   "mimetype": "text/x-python",
   "name": "python",
   "nbconvert_exporter": "python",
   "pygments_lexer": "ipython3",
   "version": "3.6.3"
  }
 },
 "nbformat": 4,
 "nbformat_minor": 1
}
