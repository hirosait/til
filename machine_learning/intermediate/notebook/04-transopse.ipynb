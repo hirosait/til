{
 "cells": [
  {
   "cell_type": "markdown",
   "metadata": {},
   "source": [
    "## 転置（Transpose）\n",
    "\n",
    "\\begin{eqnarray}\n",
    "x=\n",
    "\\left[\n",
    "\\begin{array}{c}\n",
    "1 \\\\\n",
    "2 \\\\\n",
    "3 \\\\\n",
    "\\end{array}\n",
    "\\right]\n",
    "\\end{eqnarray}\n",
    "\n",
    "\\begin{eqnarray}\n",
    "x^T=\n",
    "\\left[\n",
    "\\begin{array}{ccc}\n",
    "1 & 2 & 3 \\\\\n",
    "\\end{array}\n",
    "\\right]\n",
    "\\end{eqnarray}\n",
    "\n",
    "\\begin{eqnarray}\n",
    "x=\n",
    "\\left[\n",
    "\\begin{array}{cc}\n",
    "1 & 4 \\\\\n",
    "2 & 5 \\\\\n",
    "3 & 6 \\\\\n",
    "\\end{array}\n",
    "\\right]\n",
    "\\end{eqnarray}\n",
    "\\begin{eqnarray}\n",
    "x^T=\n",
    "\\left[\n",
    "\\begin{array}{cc}\n",
    "1 & 2 & 3 \\\\\n",
    "4 & 5 & 6 \\\\\n",
    "\\end{array}\n",
    "\\right]\n",
    "\\end{eqnarray}"
   ]
  },
  {
   "cell_type": "markdown",
   "metadata": {},
   "source": [
    "### 公式\n",
    "(1) $(A^T)^T=A$  \n",
    "Aという行列を転置したものをまた転置＝＞Aに。転置の転置は元に戻る。  \n",
    "(2) $(AB)^T = B^TA^T$  \n",
    "Aという行列とBという行列の掛け算を転置する＝＞$B^TA^T$の掛け算になる。逆に向く点に注意。   \n",
    "(3) $(ABC)^T = C^TB^TA^T$  \n",
    "上と同様\n"
   ]
  },
  {
   "cell_type": "code",
   "execution_count": null,
   "metadata": {
    "collapsed": true
   },
   "outputs": [],
   "source": []
  }
 ],
 "metadata": {
  "kernelspec": {
   "display_name": "Python 3",
   "language": "python",
   "name": "python3"
  },
  "language_info": {
   "codemirror_mode": {
    "name": "ipython",
    "version": 3
   },
   "file_extension": ".py",
   "mimetype": "text/x-python",
   "name": "python",
   "nbconvert_exporter": "python",
   "pygments_lexer": "ipython3",
   "version": "3.6.3"
  }
 },
 "nbformat": 4,
 "nbformat_minor": 2
}
