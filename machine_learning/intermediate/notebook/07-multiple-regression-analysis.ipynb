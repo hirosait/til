{
 "cells": [
  {
   "cell_type": "markdown",
   "metadata": {},
   "source": [
    "## 重回帰分析"
   ]
  },
  {
   "cell_type": "markdown",
   "metadata": {},
   "source": [
    "### 1. モデルを決める"
   ]
  },
  {
   "cell_type": "markdown",
   "metadata": {},
   "source": [
    "家賃$y$を予測する - 部屋の広さ$x_1$\n",
    "広さだけでなく、距離$x_2$…治安$x_m$  \n",
    "$M$：入力値の数とする"
   ]
  },
  {
   "cell_type": "markdown",
   "metadata": {},
   "source": [
    "$\\hat{y}$ は予測値を表す  \n",
    "$\\hat{y}=x_1+x_2+...+x_m$  \n",
    "距離、治安、などスケールが違うので、それぞれのxごとに重み$w$を考慮してあげる。この$w$が求めるべきパラメータ  \n",
    "$\\hat{y}=w_1x_1+w_2x_2+...+w_mx_m$  \n",
    "さらにバイアスがかかる$b$がある  \n",
    "$\\hat{y}=w_1x_1+w_2x_2+...+w_mx_m+b$  \n",
    "  \n",
    "この式の導出方法：例えば広さを重み$w_m$ x 表現変数$x_m$で求められるかどうかは、人間が設計する。場合によっては乗算だったりもする。  \n",
    "バイアス$b$はこのままだと扱いづらいので、$b=w_0$という読み方にしてしまい、さらに$x_0$を１としてしまい、$x_0$をダミー変数（値は１）とすることで、扱い安くする→  $b = w_0x_0$　この部分は常に1が入る。  "
   ]
  },
  {
   "cell_type": "markdown",
   "metadata": {},
   "source": [
    "線形代数の活用   \n",
    "上の式を計算すると  \n",
    "$=w_0x_0+w_1x_1+w_2x_2+...+w_mx_m$ となる。$\\sum$も使えるが、ここで線形代数を用いる  \n",
    "$\n",
    "\\begin{eqnarray}\n",
    "\\hat{y}\n",
    "=\n",
    "\\left[\n",
    "\\begin{array}{cccc}\n",
    "w_0 & w_1 & .. & w_m \\\\\n",
    "\\end{array}\n",
    "\\right]\n",
    "\\left[\n",
    "\\begin{array}{c}\n",
    "x_0 \\\\\n",
    "x_1 \\\\\n",
    "x_2 \\\\\n",
    "... \\\\\n",
    "x_m \\\\\n",
    "\\end{array}\n",
    "\\right]\n",
    "=\n",
    "\\bf{w^T}\\bf{x}\n",
    "\\end{eqnarray}$ とも表現できることがわかる。\n",
    "\n",
    "ベクトルは逆に描いても同じなので、  \n",
    "$\\begin{eqnarray}\n",
    "\\hat{y}\n",
    "=\n",
    "\\left[\n",
    "\\begin{array}{c}\n",
    "x_0 \\\\\n",
    "x_1 \\\\\n",
    "x_2 \\\\\n",
    "... \\\\\n",
    "x_m \\\\\n",
    "\\end{array}\n",
    "\\right]\n",
    "\\left[\n",
    "\\begin{array}{cccc}\n",
    "w_0 & w_1 & .. & w_m \\\\\n",
    "\\end{array}\n",
    "\\right]\n",
    "=\n",
    "\\bf{x^T\n",
    "}\\bf{w}\n",
    "\\end{eqnarray} $\n",
    "\n",
    "このように書き直すとベクトルで微分の公式が使いやすくなる。"
   ]
  },
  {
   "cell_type": "markdown",
   "metadata": {},
   "source": [
    "## 2. 評価関数を決める\n",
    "良いか悪いかの判断軸、どのようにパラメータをかえていくかを決める\n",
    "\n",
    "パラメータは $w$と$b$   \n",
    "$w$は$M$個あり$b$は1個なので、パラメータは$M+1$個ある。  \n",
    "\n",
    "評価関数  \n",
    "重回帰の場合、問題設定が変わっているのか？  \n",
    "単回帰のときは$(実測値*予測値)^2$=$(y-\\hat{y})^2$でもとめ、実測値と予測値がどれだけ離れているか、離れていなければOKと考え、これを「二乗誤差」と呼んだ。  \n",
    "重回帰の評価関数($\\mathcal{L}$エル)は  \n",
    "\n",
    "$\\mathcal{L}=(y_1-\\hat{y_1})^2+(y_2-\\hat{y_2})^2+..+(y_n-\\hat{y_n})^2$  \n",
    "$\\begin{eqnarray}\n",
    "=\n",
    "\\left[\n",
    "\\begin{array}{cccc}\n",
    "y_1-\\hat{y_1} & y_2-\\hat{y_2} & .. & y_n-\\hat{y_n} \\\\\n",
    "\\end{array}\n",
    "\\right]\n",
    "\\left[\n",
    "\\begin{array}{c}\n",
    "y_1-\\hat{y_1} \\\\\n",
    "y_2-\\hat{y_2} \\\\\n",
    "... \\\\\n",
    "y_n-\\hat{y_n} \\\\\n",
    "\\end{array}\n",
    "\\right]\n",
    "\\end{eqnarray}$  \n",
    "とベクトルでも表現できる。  \n",
    "右のベクトルは対応する項のそれぞれの左辺からそれぞれの右辺を引けば良いので、左辺全体を$y$ベクトル、右辺全体を$\\hat{y}$ベクトルと考えられるので、これを１つにまとめて$(\\bf{y}-\\bf{\\hat{y}})$と考えることができる。  \n",
    "左のベクトルは右のベクトルを回転させただけなので、$(\\bf{y}-\\bf{\\hat{y}})^T$と考えることができる。  \n",
    "\n",
    "つまり評価関数は\n",
    "$=(\\bf{y}-\\bf{\\hat{y}})^T(\\bf{y}-\\bf{\\hat{y}})$になる  \n",
    "\n",
    "このように二乗誤差の総和を取るという問題設定は変えずに、線形代数のベクトル演算を用いてスッキリまとめることができた。"
   ]
  },
  {
   "cell_type": "code",
   "execution_count": null,
   "metadata": {
    "collapsed": true
   },
   "outputs": [],
   "source": []
  }
 ],
 "metadata": {
  "kernelspec": {
   "display_name": "Python 3",
   "language": "python",
   "name": "python3"
  },
  "language_info": {
   "codemirror_mode": {
    "name": "ipython",
    "version": 3
   },
   "file_extension": ".py",
   "mimetype": "text/x-python",
   "name": "python",
   "nbconvert_exporter": "python",
   "pygments_lexer": "ipython3",
   "version": "3.6.3"
  }
 },
 "nbformat": 4,
 "nbformat_minor": 2
}
