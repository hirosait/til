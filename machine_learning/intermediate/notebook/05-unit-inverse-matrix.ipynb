{
 "cells": [
  {
   "cell_type": "markdown",
   "metadata": {},
   "source": [
    "## 単位行列と逆行列\n",
    "### 単位行列とは\n",
    "\n",
    "\n",
    "\\begin{eqnarray}\n",
    "I=\n",
    "\\left[\n",
    "\\begin{array}{ccccc}\n",
    "1 & 0 & 0 & \\cdots & 0 \\\\\n",
    "0 & 1 & 0 & \\cdots & 0 \\\\\n",
    "\\vdots & \\vdots & \\vdots & \\ddots& \\vdots \\\\\n",
    "0 & 0 & 1 & \\cdots & 1 \\\\\n",
    "\\end{array}\n",
    "\\right]\n",
    "\\end{eqnarray}\n",
    "斜めの方向だけ１，それ以外をゼロ。これを**単位行列**と呼ぶ  \n",
    "例  \n",
    "\\begin{eqnarray}\n",
    "I_{2*2}=\n",
    "\\left[\n",
    "\\begin{array}{cc}\n",
    "1 & 0 \\\\\n",
    "0 & 1 \\\\\n",
    "\\end{array}\n",
    "\\right]\n",
    "\\end{eqnarray}\n",
    "\n",
    "\\begin{eqnarray}\n",
    "I_{3*3}=\n",
    "\\left[\n",
    "\\begin{array}{cc}\n",
    "1 & 0 & 0 \\\\\n",
    "0 & 1 & 0 \\\\\n",
    "0 & 0 & 1 \\\\\n",
    "\\end{array}\n",
    "\\right]\n",
    "\\end{eqnarray}\n",
    "  \n",
    "**これはスカラーの１に相当する**\n",
    "$2*1=2$  \n",
    "1を掛ける前と後ではかわらない  \n"
   ]
  },
  {
   "cell_type": "markdown",
   "metadata": {},
   "source": [
    "### 公式\n",
    "$AI=A$  \n",
    "$IA=A$  \n",
    "Aという行列掛ける単位行列IはAになる。　  \n",
    "Iという単位行列掛ける行列AはAになる。"
   ]
  },
  {
   "cell_type": "markdown",
   "metadata": {},
   "source": [
    "### 練習\n",
    "\\begin{eqnarray}\n",
    "\\left[\n",
    "\\begin{array}{cc}\n",
    "1 & 2 \\\\\n",
    "3 & 4 \\\\\n",
    "\\end{array}\n",
    "\\right]\n",
    "\\left[\n",
    "\\begin{array}{cc}\n",
    "1 & 0 \\\\\n",
    "0 & 1 \\\\\n",
    "\\end{array}\n",
    "\\right]\n",
    "=\n",
    "\\left[\n",
    "\\begin{array}{cc}\n",
    "1*1+2*0 & 1*0+2*1 \\\\\n",
    "1*3+0*4 & 3*0+4*1 \\\\\n",
    "\\end{array}\n",
    "\\right]\n",
    "=\n",
    "\\left[\n",
    "\\begin{array}{cc}\n",
    "1 & 2 \\\\\n",
    "3 & 4 \\\\\n",
    "\\end{array}\n",
    "\\right]\n",
    "\\end{eqnarray}"
   ]
  },
  {
   "cell_type": "markdown",
   "metadata": {},
   "source": [
    "## 逆行列(Inverse Matrix)とは\n",
    "$2*[]=1$  \n",
    "[]に当てはまるものは？    \n",
    "$=1/2$  \n",
    "もしくは逆数$2^{-1}$とする。  \n",
    "これがスカラーの逆数に対応している。  \n",
    "\n",
    "$A^{-1}$をAの逆行列、$I$を単位行列  \n",
    "$AA^{-1}=I$  \n",
    "$A^{-1}A=I$ （えーいんばーすと読む）  \n",
    "  \n",
    "  \n",
    "大学などでは、2x2、3x3、4x4などを習うが、実務では100x100などでも少ないくらい。  \n",
    "100x100の公式を覚える必要があるが、手計算では間に合わないので、コンピューターに計算させるで良い。  \n",
    "\n"
   ]
  },
  {
   "cell_type": "markdown",
   "metadata": {},
   "source": [
    "### （求まる）条件\n",
    "**Aが\"正方行列\"であること(最低限）**  \n",
    "正方行列とは縦と横のサイズが同じであること。3x3, 10x10など  "
   ]
  },
  {
   "cell_type": "code",
   "execution_count": null,
   "metadata": {
    "collapsed": true
   },
   "outputs": [],
   "source": []
  }
 ],
 "metadata": {
  "kernelspec": {
   "display_name": "Python 3",
   "language": "python",
   "name": "python3"
  },
  "language_info": {
   "codemirror_mode": {
    "name": "ipython",
    "version": 3
   },
   "file_extension": ".py",
   "mimetype": "text/x-python",
   "name": "python",
   "nbconvert_exporter": "python",
   "pygments_lexer": "ipython3",
   "version": "3.6.3"
  }
 },
 "nbformat": 4,
 "nbformat_minor": 2
}
